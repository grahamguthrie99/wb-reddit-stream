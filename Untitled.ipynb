{
 "cells": [
  {
   "cell_type": "code",
   "execution_count": 2,
   "id": "residential-instruction",
   "metadata": {},
   "outputs": [
    {
     "name": "stdout",
     "output_type": "stream",
     "text": [
      "b'GME'\n",
      "b'A'\n",
      "b'GDP'\n"
     ]
    }
   ],
   "source": [
    "import os\n",
    "from dotenv import load_dotenv\n",
    "from Subscriber import Subscriber\n",
    "load_dotenv()\n",
    "\n",
    "subscriber = Subscriber(os.environ[\"QUEUE_NAME\"], os.environ[\"ROUTING_KEY\"], os.environ[\"HOST\"], os.environ[\"PORT\"], os.environ[\"EXCHANGE\"])\n",
    "subscriber.setup()"
   ]
  },
  {
   "cell_type": "code",
   "execution_count": null,
   "id": "congressional-newspaper",
   "metadata": {},
   "outputs": [],
   "source": []
  }
 ],
 "metadata": {
  "kernelspec": {
   "display_name": "Python 3",
   "language": "python",
   "name": "python3"
  },
  "language_info": {
   "codemirror_mode": {
    "name": "ipython",
    "version": 3
   },
   "file_extension": ".py",
   "mimetype": "text/x-python",
   "name": "python",
   "nbconvert_exporter": "python",
   "pygments_lexer": "ipython3",
   "version": "3.9.1"
  }
 },
 "nbformat": 4,
 "nbformat_minor": 5
}
